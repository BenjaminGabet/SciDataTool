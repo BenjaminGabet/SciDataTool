{
 "cells": [
  {
   "cell_type": "markdown",
   "metadata": {},
   "source": [
    "# How to create Data objects\n",
    "\n",
    "The SciDataTool python module has been created to **ease the handling of scientific data**, and considerately simplify plot commands. It unifies the extraction of relevant data (e.g. slices), whether they are stored in the time/space or in the frequency domain. The call to Fourier Transform functions is **transparent**, although it still can be parameterized through the use of a dictionary.\n",
    "\n",
    "This tutorial explains the **structure** of the `Data` classes, then shows **how to create axes and fields objects**.\n",
    "\n",
    "The following example demonstrates the syntax to **quickly create a 2D data field** (airgap radial flux density) depending on time and angle:"
   ]
  },
  {
   "cell_type": "code",
   "execution_count": 1,
   "metadata": {
    "scrolled": true
   },
   "outputs": [],
   "source": [
    "# Add SciDataTool to the Python path\n",
    "import sys\n",
    "sys.path.append('../..')\n",
    "\n",
    "# Import useful packages\n",
    "from os.path import join\n",
    "from numpy import pi, squeeze\n",
    "from pandas import ExcelFile, read_excel\n",
    "\n",
    "# Import SciDataTool modules\n",
    "from SciDataTool import Data1D, DataTime\n",
    "\n",
    "# Import scientific data\n",
    "from SciDataTool.Tests import DATA_DIR\n",
    "xls_file = ExcelFile(join(DATA_DIR, \"tutorials_data.xlsx\"))\n",
    "time = read_excel(xls_file, sheet_name=\"time\", header=None, nrows=1, squeeze=True).to_numpy()\n",
    "angle = read_excel(xls_file, sheet_name=\"angle\", header=None, nrows=1, squeeze=True).to_numpy()\n",
    "field = read_excel(xls_file, sheet_name=\"Br\", header=None, nrows=2016, squeeze=True).to_numpy()\n",
    "\n",
    "#---------------------------------------------------------------\n",
    "# Create Data objects\n",
    "Time = Data1D(name=\"time\", unit=\"s\", values=time)\n",
    "Angle = Data1D(name=\"angle\", unit=\"rad\", values=angle)\n",
    "Br = DataTime(\n",
    "            name=\"Airgap radial flux density\",\n",
    "            unit=\"T\",\n",
    "            symbol=\"B_r\",\n",
    "            axes=[Time, Angle],\n",
    "            values=field,\n",
    "        )\n",
    "#---------------------------------------------------------------"
   ]
  },
  {
   "cell_type": "markdown",
   "metadata": {},
   "source": [
    "Your `Data`objects have been successfully created. Other features of the `SciDataTool` package are also available:\n",
    "- reduce storage if an axis is regularly spaced\n",
    "- reduce storage if the field presents a symmetry along one of its axes\n",
    "- store a field in the frequency domain\n",
    "- specifiy normalizations\n",
    "\n",
    "These functionalities are described in the following sections.\n",
    "\n",
    "## 1. Data class structure\n",
    "The `Data` class is composed of:\n",
    "- classes describing **axes**: `Data1D`, or `DataLinspace` if the axis is regularly spaced (see [section 2](#How-to-reduce-storage-if-an-axis-is-regularly-spaced))\n",
    "- classes describing **fields** stored in the time/space domain (`DataTime`) or in the frequential domain (`DataFreq`)\n",
    "\n",
    "The following UML summarizes this structure:\n",
    "\n",
    "<div>\n",
    "<img src=\"_static/UML_Data_Object.png\" width=\"450\"/>\n",
    "</div>\n",
    "\n",
    "The attributes in red are **mandatory**, those in gray are **optional**. To correctly fill the mandatory attributes, it is advised to follow these principles:\n",
    "- `values` is a **numpy array**\n",
    "- `axes` is a **list** of `Data1D` or `DataLinspace`\n",
    "- `name` is **string** corresponding to a short description of the field, or the \n",
    "- `symbol` is a **string** giving the symbol of the field in LaTeX format\n",
    "- `unit` is a **string** among the list: `[dimless, m, rad, °, g, s, min, h, Hz, rpm, degC, A, J, W, N, C, T, G, V, F, H, Ohm, At, Wb, Mx]`, with a prefix `[k, h, da, d, c, m, etc.]`. Composed units are also available (e.g. `mm/s^2`). It is best to use such a LaTeX formatting for axis labelling. Other units can be added in [conversions.py](https://github.com/Eomys/SciDataTool/blob/master/Functions/conversions.py).\n",
    "- for `Data1D` and `DataLinspace`, `name` + `[unit]` can be used to label axes\n",
    "- for `DataTime` and `DataFreq`, `name` can be used as plot title, and `symbol` + `[unit]` as label\n",
    "\n",
    "The following sections explain how to use the optional attributes to optimize storage."
   ]
  },
  {
   "cell_type": "markdown",
   "metadata": {},
   "source": [
    "## 2. How to reduce storage if an axis is regularly spaced\n",
    "Axes often have a **regular distribution**, so that the use of `DataLinspace` allows to reduce the storage.\n",
    "\n",
    "A `DataLinspace` object has five properties instead of the `values` array: `initial`, `final`, `step` and `number` allow to define the linspace vector (3 out of these 4 suffice), and `include_endpoint` is a boolean used to indicate whether the final point should be included or not (default `False`).\n",
    "\n",
    "In the following example, the angle vector is defined as a linspace:"
   ]
  },
  {
   "cell_type": "code",
   "execution_count": 2,
   "metadata": {},
   "outputs": [],
   "source": [
    "from SciDataTool import DataLinspace\n",
    "\n",
    "#---------------------------------------------------------------\n",
    "# Create Data objects\n",
    "Angle = DataLinspace(\n",
    "            name=\"angle\",\n",
    "            unit=\"rad\",\n",
    "            symmetries={},\n",
    "            initial=0,\n",
    "            final=2*pi,\n",
    "            number=2016,\n",
    "        )\n",
    "#---------------------------------------------------------------"
   ]
  },
  {
   "cell_type": "markdown",
   "metadata": {},
   "source": [
    "## 3. How to reduce storage if a field presents a symmetry/periodicity\n",
    "If a signal shows a **symmetry** or a **periodicity** along one or several of its axes, it is possible to store only the relevant part of the signal, and save the information necessary to rebuild it within the optional attribute `symmetries`. A repeting signal can either be periodic: $f(t+T)=f(t)$, or antiperiodic: $f(t+T)=-f(t)$. Indeed, we can consider that a symmetric signal is a periodic signal of period $T=N/2$.\n",
    "\n",
    "`symmetries` is a dictionary containing the **name of the axis** and a **dictionary** of its symmetry (`{\"period\": n}` or `{\"antiperiod\": n}`, with *n* the number of periods in the complete signal. Note that the symmetries dictionary must be shared with the field itself (`DataTime` or `DataFreq`).\n",
    "\n",
    "In the following example, the time vector and the field are reduced to one third before being stored."
   ]
  },
  {
   "cell_type": "code",
   "execution_count": 3,
   "metadata": {},
   "outputs": [],
   "source": [
    "time_reduced = time[0:time.size//3]\n",
    "field_reduced = field[0:time.size//3,:]\n",
    "\n",
    "#---------------------------------------------------------------\n",
    "# Create Data objects\n",
    "Time_reduced = Data1D(name=\"time\", unit=\"s\", symmetries={\"time\": {\"period\": 3}}, values=time_reduced)\n",
    "Br_reduced = DataTime(\n",
    "            name=\"Airgap radial flux density\",\n",
    "            unit=\"T\",\n",
    "            symbol=\"B_r\",\n",
    "            axes=[Time, Angle],\n",
    "            values=field,\n",
    "            symmetries={\"time\": {\"period\": 3}},\n",
    "        )\n",
    "#---------------------------------------------------------------"
   ]
  },
  {
   "cell_type": "markdown",
   "metadata": {},
   "source": [
    "## 4. How to store a field in the frequency domain\n",
    "If one prefers to store data in the frequency domain, for example because most postprocessings will handle spectra, or because a small number of harmonics allow to reduce storage, the `DataFreq` class can be used.\n",
    "\n",
    "The definition is similar to the `DataTime` one, with the difference that the axes now have to be **frequencies** or **wavenumbers** and a `DataFreq` object is created.\n",
    "\n",
    "Since we want to be able to go back to the time/space domain, there must exist a corresponding axis name. For the time being, the existing **correspondances** are:\n",
    "  + `\"time\"` &harr; `\"freqs\"`\n",
    "  + `\"angle\"` &harr; `\"wavenumber\"`\n",
    "\n",
    "This list is to be expanded, and a possibility to manually add a correspondance will be implemented soon.\n",
    "\n",
    "In the following example, a field is stored in a `DataFreq` object."
   ]
  },
  {
   "cell_type": "code",
   "execution_count": 5,
   "metadata": {},
   "outputs": [],
   "source": [
    "from SciDataTool import DataFreq\n",
    "\n",
    "# Import scientific data\n",
    "freqs = read_excel(xls_file, sheet_name=\"freqs\", header=None, nrows=1, squeeze=True).to_numpy()\n",
    "wavenumber = read_excel(xls_file, sheet_name=\"wavenumber\", header=None, nrows=1, squeeze=True).to_numpy()\n",
    "field_fft2 = read_excel(xls_file, sheet_name=\"Br_fft2\", header=None, nrows=2016, squeeze=True).to_numpy()\n",
    "\n",
    "#---------------------------------------------------------------\n",
    "# Create Data objects\n",
    "Freqs = Data1D(name=\"freqs\", unit=\"Hz\", values=freqs)\n",
    "Wavenumber = Data1D(name=\"wavenumber\", unit=\"dimless\", values=wavenumber)\n",
    "Br_fft = DataFreq(\n",
    "            name=\"Airgap radial flux density\",\n",
    "            unit=\"T\",\n",
    "            symbol=\"B_r\",\n",
    "            axes=[Freqs, Wavenumber],\n",
    "            values=field_fft2,\n",
    "        )\n",
    "#---------------------------------------------------------------"
   ]
  },
  {
   "cell_type": "markdown",
   "metadata": {},
   "source": [
    "## 5. How to specify normalizations (axes or field)\n",
    "If you plan to **normalize** your field or its axes during certain postprocessings (but not all), you might want to store the normalizations values. To do so, you can use the `normalizations` attribute, which is a dictionaray:\n",
    "- for a normalization of the **field**, use `\"ref\"` (e.g. `{\"ref\": 0.8}`)\n",
    "- for a normalization of an **axis**, use the name of the normalized axis unit (e.g. `{\"elec_order\": 60}`). There is no list of predefined normalized axis units, you simply must make sure to request it when you extract data (see [How to extract slices](https://github.com/Eomys/SciDataTool/tree/master/Tutorials/tuto_Slices.ipynb))\n",
    "- to **convert** to a unit which does not exist in the predefined units, and if there exists a proportionality relation, it is also possible to add it in the `normalizations` dictionary (e.g. `{\"nameofmyunit\": 154}`)\n",
    "\n",
    "This dictionary can also be updated later.\n",
    "\n",
    "See below examples of use of `normalizations`:"
   ]
  },
  {
   "cell_type": "code",
   "execution_count": 6,
   "metadata": {},
   "outputs": [],
   "source": [
    "#---------------------------------------------------------------\n",
    "Br = DataTime(\n",
    "            name=\"Airgap radial flux density\",\n",
    "            unit=\"T\",\n",
    "            symbol=\"B_r\",\n",
    "            axes=[Time, Angle],\n",
    "            normalizations={\"ref\": 0.8, \"elec_order\": 60},\n",
    "            values=field,\n",
    "        )\n",
    "Br.normalizations[\"space_order\"] = 3\n",
    "#---------------------------------------------------------------"
   ]
  },
  {
   "cell_type": "markdown",
   "metadata": {},
   "source": [
    "Now that the `Data` objects have been created, we can:\n",
    "- [extract slices](https://github.com/Eomys/SciDataTool/blob/master/SciDataTool/Tutorials/tuto2_Slices.ipynb)\n",
    "- [compare several fields](https://github.com/Eomys/SciDataTool/blob/master/SciDataTool/Tutorials/tuto3_Compare.ipynb)\n",
    "- [perform advanced Fourier Transforms](https://github.com/Eomys/SciDataTool/blob/master/SciDataTool/Tutorials/tuto4_Fourier.ipynb)"
   ]
  }
 ],
 "metadata": {
  "kernelspec": {
   "display_name": "Python 3",
   "language": "python",
   "name": "python3"
  },
  "language_info": {
   "codemirror_mode": {
    "name": "ipython",
    "version": 3
   },
   "file_extension": ".py",
   "mimetype": "text/x-python",
   "name": "python",
   "nbconvert_exporter": "python",
   "pygments_lexer": "ipython3",
   "version": "3.7.6"
  },
  "toc": {
   "base_numbering": 1,
   "nav_menu": {},
   "number_sections": false,
   "sideBar": false,
   "skip_h1_title": false,
   "title_cell": "Table of Contents",
   "title_sidebar": "Contents",
   "toc_cell": false,
   "toc_position": {
    "height": "calc(100% - 180px)",
    "left": "10px",
    "top": "150px",
    "width": "311.6px"
   },
   "toc_section_display": false,
   "toc_window_display": false
  }
 },
 "nbformat": 4,
 "nbformat_minor": 4
}
