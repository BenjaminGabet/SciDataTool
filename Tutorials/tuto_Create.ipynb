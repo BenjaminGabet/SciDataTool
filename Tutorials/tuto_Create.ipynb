{
 "cells": [
  {
   "cell_type": "markdown",
   "metadata": {
    "toc": true
   },
   "source": [
    "<h1>Table of Contents<span class=\"tocSkip\"></span></h1>\n",
    "<div class=\"toc\"><ul class=\"toc-item\"><li><span><a href=\"#Data-class-structure\" data-toc-modified-id=\"Data-class-structure-1\"><span class=\"toc-item-num\">1&nbsp;&nbsp;</span>Data class structure</a></span></li><li><span><a href=\"#How-to-create-a-Data-object\" data-toc-modified-id=\"How-to-create-a-Data-object-2\"><span class=\"toc-item-num\">2&nbsp;&nbsp;</span>How to create a Data object</a></span><ul class=\"toc-item\"><li><span><a href=\"#How-to-create-a-Data1D-object\" data-toc-modified-id=\"How-to-create-a-Data1D-object-2.1\"><span class=\"toc-item-num\">2.1&nbsp;&nbsp;</span>How to create a Data1D object</a></span></li><li><span><a href=\"#How-to-create-a-DataLinspace-object\" data-toc-modified-id=\"How-to-create-a-DataLinspace-object-2.2\"><span class=\"toc-item-num\">2.2&nbsp;&nbsp;</span>How to create a DataLinspace object</a></span></li><li><span><a href=\"#How-to-create-a-DataTime-object\" data-toc-modified-id=\"How-to-create-a-DataTime-object-2.3\"><span class=\"toc-item-num\">2.3&nbsp;&nbsp;</span>How to create a DataTime object</a></span></li><li><span><a href=\"#How-to-create-a-DataFreq-object\" data-toc-modified-id=\"How-to-create-a-DataFreq-object-2.4\"><span class=\"toc-item-num\">2.4&nbsp;&nbsp;</span>How to create a DataFreq object</a></span></li></ul></li></ul></div>"
   ]
  },
  {
   "cell_type": "markdown",
   "metadata": {},
   "source": [
    "# How to create Data objects\n",
    "\n",
    "The SciDataTool python module has been created to ease the handling of scientific data, and considerately simplify plot commands. It unifies the extraction of relevant data (e.g. slices), whether they are stored in the time/space or in the frequency domain. The call to Fourier Transform functions is transparent, although it still can be parameterized through the use of a dictionary.\n",
    "\n",
    "This tutorial explains the structure of the `Data` classes, then shows how to create axes and fields objects.\n",
    "\n",
    "The notebook related to this tutorial is available on [GitHub](https://github.com/Eomys/SciDataTool/tree/master/Tutorials/tuto_Create.ipynb).\n",
    "\n",
    "The following example demonstrates the syntax to quickly create a 2D data field depending on time and angle. For more details, see below."
   ]
  },
  {
   "cell_type": "code",
   "execution_count": 1,
   "metadata": {},
   "outputs": [
    {
     "ename": "ModuleNotFoundError",
     "evalue": "No module named 'pyleecan'",
     "output_type": "error",
     "traceback": [
      "\u001b[1;31m---------------------------------------------------------------------------\u001b[0m",
      "\u001b[1;31mModuleNotFoundError\u001b[0m                       Traceback (most recent call last)",
      "\u001b[1;32m<ipython-input-1-b52e78768530>\u001b[0m in \u001b[0;36m<module>\u001b[1;34m\u001b[0m\n\u001b[0;32m      5\u001b[0m \u001b[1;32mfrom\u001b[0m \u001b[0mpandas\u001b[0m \u001b[1;32mimport\u001b[0m \u001b[0mread_excel\u001b[0m\u001b[1;33m\u001b[0m\u001b[1;33m\u001b[0m\u001b[0m\n\u001b[0;32m      6\u001b[0m \u001b[1;33m\u001b[0m\u001b[0m\n\u001b[1;32m----> 7\u001b[1;33m \u001b[1;32mfrom\u001b[0m \u001b[0mSciDataTool\u001b[0m\u001b[1;33m.\u001b[0m\u001b[0mClasses\u001b[0m\u001b[1;33m.\u001b[0m\u001b[0mData1D\u001b[0m \u001b[1;32mimport\u001b[0m \u001b[0mData1D\u001b[0m\u001b[1;33m\u001b[0m\u001b[1;33m\u001b[0m\u001b[0m\n\u001b[0m\u001b[0;32m      8\u001b[0m \u001b[1;32mfrom\u001b[0m \u001b[0mSciDataTool\u001b[0m\u001b[1;33m.\u001b[0m\u001b[0mClasses\u001b[0m\u001b[1;33m.\u001b[0m\u001b[0mDataTime\u001b[0m \u001b[1;32mimport\u001b[0m \u001b[0mDataTime\u001b[0m\u001b[1;33m\u001b[0m\u001b[1;33m\u001b[0m\u001b[0m\n\u001b[0;32m      9\u001b[0m \u001b[1;32mfrom\u001b[0m \u001b[0mSciDataTool\u001b[0m\u001b[1;33m.\u001b[0m\u001b[0mTests\u001b[0m \u001b[1;32mimport\u001b[0m \u001b[0mDATA_DIR\u001b[0m\u001b[1;33m\u001b[0m\u001b[1;33m\u001b[0m\u001b[0m\n",
      "\u001b[1;32m~\\Documents\\Helene\\Code\\Pyleecan\\SciDataTool\\Classes\\Data1D.py\u001b[0m in \u001b[0;36m<module>\u001b[1;34m\u001b[0m\n\u001b[0;32m      5\u001b[0m \u001b[1;33m\u001b[0m\u001b[0m\n\u001b[0;32m      6\u001b[0m \u001b[1;32mfrom\u001b[0m \u001b[0mos\u001b[0m \u001b[1;32mimport\u001b[0m \u001b[0mlinesep\u001b[0m\u001b[1;33m\u001b[0m\u001b[1;33m\u001b[0m\u001b[0m\n\u001b[1;32m----> 7\u001b[1;33m \u001b[1;32mfrom\u001b[0m \u001b[0mpyleecan\u001b[0m\u001b[1;33m.\u001b[0m\u001b[0mClasses\u001b[0m\u001b[1;33m.\u001b[0m\u001b[0m_check\u001b[0m \u001b[1;32mimport\u001b[0m \u001b[0mset_array\u001b[0m\u001b[1;33m,\u001b[0m \u001b[0mcheck_init_dict\u001b[0m\u001b[1;33m,\u001b[0m \u001b[0mcheck_var\u001b[0m\u001b[1;33m,\u001b[0m \u001b[0mraise_\u001b[0m\u001b[1;33m\u001b[0m\u001b[1;33m\u001b[0m\u001b[0m\n\u001b[0m\u001b[0;32m      8\u001b[0m \u001b[1;32mfrom\u001b[0m \u001b[0mpyleecan\u001b[0m\u001b[1;33m.\u001b[0m\u001b[0mFunctions\u001b[0m\u001b[1;33m.\u001b[0m\u001b[0msave\u001b[0m \u001b[1;32mimport\u001b[0m \u001b[0msave\u001b[0m\u001b[1;33m\u001b[0m\u001b[1;33m\u001b[0m\u001b[0m\n\u001b[0;32m      9\u001b[0m \u001b[1;32mfrom\u001b[0m \u001b[0mpyleecan\u001b[0m\u001b[1;33m.\u001b[0m\u001b[0mClasses\u001b[0m\u001b[1;33m.\u001b[0m\u001b[0mData\u001b[0m \u001b[1;32mimport\u001b[0m \u001b[0mData\u001b[0m\u001b[1;33m\u001b[0m\u001b[1;33m\u001b[0m\u001b[0m\n",
      "\u001b[1;31mModuleNotFoundError\u001b[0m: No module named 'pyleecan'"
     ]
    }
   ],
   "source": [
    "# Add SciDataTool to the Python path\n",
    "import sys\n",
    "sys.path.append('../..')\n",
    "from numpy import pi\n",
    "from pandas import read_excel\n",
    "\n",
    "from SciDataTool.Classes.Data1D import Data1D\n",
    "from SciDataTool.Classes.DataTime import DataTime\n",
    "from SciDataTool.Tests import DATA_DIR\n",
    "\n",
    "xls_file = join(DATA_DIR, \"tutorials_data.xlsx\")\n",
    "time = read_excel(xls_file, \"time\").to_numpy()\n",
    "\n",
    "print(time)\n"
   ]
  },
  {
   "cell_type": "markdown",
   "metadata": {},
   "source": [
    "## Data class structure\n",
    "The `Data` class is composed of:\n",
    "- classes describing axes (`Data1D` and `DataLinspace`)\n",
    "- classes describing fields stored in the time/space domain (`DataTime`) or in the frequential domain (`DataFreq`).\n",
    "\n",
    "The following UML summarizes this structure:\n",
    "\n",
    "<div>\n",
    "<img src=\"_static/UML_Data_Object.png\" width=\"450\"/>\n",
    "</div>"
   ]
  },
  {
   "cell_type": "markdown",
   "metadata": {},
   "source": [
    "## How to create a Data object\n",
    "At the end of a simulation, the idea is to store the resulting fields into `Data` objects before post-processing them. To do so, the axes have to be created first.\n",
    "\n",
    "### How to create a Data1D object\n",
    "A `Data1D` object has four properties: a `name`, a `unit`, a dictionary for `symmetries`, and a numpy array for the `values`.\n",
    "\n",
    "- The `name` is a string and can be user-defined, although restrictions appear when one wants to perform Fourier transforms. In this case, the correspondance with the frequency domain names must exist among the predefined correspondances:\n",
    "  + `\"time\"` &harr; `\"freqs\"`\n",
    "  + `\"angle\"` &harr; `\"wavenumber\"`\n",
    "  \n",
    "$\\color{red}{\\text{To be expanded + possibility to manually enter relation?}}$\n",
    "\n",
    "- The `unit` is also a string, and corresponds to the symbol of the unit (*dimless, m, rad, °, g, s, min, h, Hz, rpm, degC, A, J, W, N, C, T, G, V, F, H, Ohm, At, Wb, Mx*), with a prefix (*k*, *h*, *da*, *d*, *c*, *m*, etc.). Composed units are also available (e.g. `\"mm/s^2\"`). It is used for labelling plot axes, so that it is best to use a LaTeX formatting.\n",
    "\n",
    "\n",
    "- The `symmetries` are used to reduce storage: a signal can be periodic ($f(t+T)=f(t)$) or antiperiodic ($f(t+T)=-f(t)$). The symmetries dictionary must be filled with the name of the axis and a dictionary of its symmetry (`{\"period\": n}` or `{\"antiperiod\": n}`, with *n* the number of periods in the complete signal. Note that the symmetries dictionary must be shared with the field itself (`DataTime` or `DataFreq`).\n",
    "\n",
    "\n",
    "In the following example, the time vector is imported from an xls file and stored in a `Data1D` object. A second object is created using a 1/3 periodicity to demonstrate the use of the symmetries dictionary:"
   ]
  },
  {
   "cell_type": "code",
   "execution_count": 1,
   "metadata": {},
   "outputs": [],
   "source": [
    "# Add pyleecan to the Python path\n",
    "import sys\n",
    "sys.path.append('../..')\n",
    "\n",
    "from os.path import join\n",
    "from numpy import squeeze\n",
    "\n",
    "from pyleecan.Classes.Data1D import Data1D\n",
    "from pyleecan.Classes.ImportMatrixXls import ImportMatrixXls\n",
    "from pyleecan.Tests import DATA_DIR\n",
    "\n",
    "xls_file_time = join(DATA_DIR, \"default_proj_time.xlsx\")\n",
    "time = squeeze(ImportMatrixXls(file_path=xls_file_time, sheet=\"default_proj_time\").get_data())\n",
    "time_reduced = time[0:672]\n",
    "\n",
    "Time = Data1D(name=\"time\", unit=\"s\", symmetries={}, values=time)\n",
    "\n",
    "Time_reduced = Data1D(name=\"time\", unit=\"s\", symmetries={\"time\": {\"period\": 3}}, values=time_reduced)"
   ]
  },
  {
   "cell_type": "markdown",
   "metadata": {},
   "source": [
    "### How to create a DataLinspace object\n",
    "Axes often have a regular distribution, so that the use of `DataLinspace` allows to reduce the storage.\n",
    "\n",
    "A `DataLinspace` object has five properties instead of the `values` array: `initial`, `final`, `step` and `number` allow to define the linspace vector (3 out of these 4 suffice), and `include_endpoint` is a boolean used to indicate whether the final point should be included or not.\n",
    "\n",
    "In the following example, an angle vector is defined as a linspace:\n"
   ]
  },
  {
   "cell_type": "code",
   "execution_count": 2,
   "metadata": {},
   "outputs": [],
   "source": [
    "from numpy import pi\n",
    "from pyleecan.Classes.DataLinspace import DataLinspace\n",
    "\n",
    "Angle = DataLinspace(\n",
    "            name=\"angle\",\n",
    "            unit=\"rad\",\n",
    "            symmetries={},\n",
    "            initial=0,\n",
    "            final=2*pi,\n",
    "            number=2016,\n",
    "            include_endpoint=False,\n",
    "        )"
   ]
  },
  {
   "cell_type": "markdown",
   "metadata": {},
   "source": [
    "### How to create a DataTime object\n",
    "Once the axes have been created, the objects for the fields can be created. If the field is defined in the time/space domain, the `DataTime` class has to be used.\n",
    "\n",
    "5 additional properties must be defined (note that `name` will be used in the titles of the plots, and `symmetries` should correspond to the axes symmetries):\n",
    "- `symbol` is the LaTeX formatted string which will be used as a label in the plots\n",
    "- `axes` is a list of `Data1D` or `DataLinspace` objects corresponding to the axes used in the field\n",
    "- `normalizations` is a dictionary prescribing the values to be used to normalize the field (through the use of a `is_norm` flag which we will see later) or one of its axes: use `{\"unit\": X0}` for a field normalization (e.g. `normalizations={\"T\": 0.8}`), or the name of the normalized axis (e.g. `normalizations={\"elec_order\": 60}`)\n",
    "- `FT_parameters` is a dictionary of the type of Fourier Transform to use (`type`, `window`, `window_width`, etc.)\n",
    "- `values` is a numpy array\n",
    "\n",
    "See below two examples of `DataTime`creation, without and with symmetry:"
   ]
  },
  {
   "cell_type": "code",
   "execution_count": 3,
   "metadata": {},
   "outputs": [],
   "source": [
    "from pyleecan.Classes.DataTime import DataTime\n",
    "\n",
    "xls_file_Br = join(DATA_DIR, \"default_proj_Br_time_angle.xlsx\")\n",
    "field = ImportMatrixXls(file_path=xls_file_Br, sheet=\"default_proj_Br_time_angle\").get_data()\n",
    "field_reduced = field[0:672, :]\n",
    "\n",
    "Br = DataTime(\n",
    "            name=\"Airgap radial flux density\",\n",
    "            unit=\"T\",\n",
    "            symmetries={},\n",
    "            symbol=\"B_r\",\n",
    "            axes=[Time, Angle],\n",
    "            normalizations={\"elec_order\": 60, \"space_order\": 3},\n",
    "            values=field,\n",
    "        )\n",
    "\n",
    "Br_reduced = DataTime(\n",
    "            name=\"Airgap radial flux density\",\n",
    "            unit=\"T\",\n",
    "            symmetries={\"time\": {\"period\": 3}},\n",
    "            symbol=\"B_r\",\n",
    "            axes=[Time, Angle],\n",
    "            normalizations={\"elec_order\": 60, \"space_order\": 3},\n",
    "            values=field_reduced,\n",
    "        )"
   ]
  },
  {
   "cell_type": "markdown",
   "metadata": {},
   "source": [
    "### How to create a DataFreq object\n",
    "If one prefers to store data in the frequency domain, for example because most postprocessings will handle spectra, the `DataFreq` class can be used.\n",
    "\n",
    "The definition is similar to the `DataTime` one: the axes now have to be frequencies or wavenumbers (see following example, with an import from Matlab files)."
   ]
  },
  {
   "cell_type": "code",
   "execution_count": 4,
   "metadata": {},
   "outputs": [],
   "source": [
    "from pyleecan.Classes.DataFreq import DataFreq\n",
    "from pyleecan.Classes.ImportMatlab import ImportMatlab\n",
    "\n",
    "mat_file_Br_cfft2 = join(DATA_DIR, \"default_proj_Br_cfft2.mat\")\n",
    "mat_file_Brfreqs = join(DATA_DIR, \"default_proj_Brfreqs.mat\")\n",
    "mat_file_Brwavenumber = join(DATA_DIR, \"default_proj_Brwavenumber.mat\")\n",
    "\n",
    "Br_cfft2 = squeeze(ImportMatlab(file_path=mat_file_Br_cfft2, var_name=\"Fwr\").get_data())\n",
    "freqs_Br = squeeze(ImportMatlab(file_path=mat_file_Brfreqs, var_name=\"freqs\").get_data())\n",
    "wavenumber = squeeze(ImportMatlab(file_path=mat_file_Brwavenumber, var_name=\"orders\").get_data())\n",
    "\n",
    "Freqs = Data1D(name=\"freqs\", unit=\"Hz\", symmetries={}, values=freqs_Br,)\n",
    "\n",
    "Wavenumber = Data1D(name=\"wavenumber\", unit=\"\", symmetries={}, values=wavenumber)\n",
    "\n",
    "Br_fft = DataFreq(\n",
    "            name=\"Airgap radial flux density\",\n",
    "            unit=\"T\",\n",
    "            symmetries={},\n",
    "            symbol=\"B_r\",\n",
    "            axes=[Freqs, Wavenumber],\n",
    "            normalizations={},\n",
    "            values=Br_cfft2,\n",
    "        )"
   ]
  },
  {
   "cell_type": "code",
   "execution_count": null,
   "metadata": {},
   "outputs": [],
   "source": []
  },
  {
   "cell_type": "code",
   "execution_count": null,
   "metadata": {},
   "outputs": [],
   "source": []
  }
 ],
 "metadata": {
  "kernelspec": {
   "display_name": "Python 3",
   "language": "python",
   "name": "python3"
  },
  "language_info": {
   "codemirror_mode": {
    "name": "ipython",
    "version": 3
   },
   "file_extension": ".py",
   "mimetype": "text/x-python",
   "name": "python",
   "nbconvert_exporter": "python",
   "pygments_lexer": "ipython3",
   "version": "3.7.6"
  },
  "toc": {
   "base_numbering": 1,
   "nav_menu": {},
   "number_sections": true,
   "sideBar": true,
   "skip_h1_title": true,
   "title_cell": "Table of Contents",
   "title_sidebar": "Contents",
   "toc_cell": true,
   "toc_position": {},
   "toc_section_display": true,
   "toc_window_display": true
  }
 },
 "nbformat": 4,
 "nbformat_minor": 4
}
