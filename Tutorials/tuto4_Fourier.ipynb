{
 "cells": [
  {
   "cell_type": "markdown",
   "metadata": {},
   "source": [
    "# How to perform advanced Fourier Transforms\n",
    "\n",
    "The SciDataTool python module has been created to **ease the handling of scientific data**, and considerately simplify plot commands. It unifies the extraction of relevant data (e.g. slices), whether they are stored in the time/space or in the frequency domain. The call to Fourier Transform functions is **transparent**, although it still can be parameterized through the use of a dictionary.\n",
    "\n",
    "This tutorial explains the how to perform **advanced Fourier Transforms**: extraction of main harmonics, Short-Time Fourier Transforms, sliding window average, spectral leakage elimination, spectral analysis, third octave projection, etc.\n",
    "\n",
    "After learning [how to create `Data` objects](https://github.com/Eomys/SciDataTool/blob/master/SciDataTool/Tutorials/tuto1_Create.ipynb), [how to extract slices](https://github.com/Eomys/SciDataTool/blob/master/SciDataTool/Tutorials/tuto2_Slices.ipynb), and [how to compare several fields](https://github.com/Eomys/SciDataTool/blob/master/SciDataTool/Tutorials/tuto3_Compare.ipynb) you may want to go **further in the Fourier analysis**.\n",
    "\n",
    "This tutorial is still under development."
   ]
  }
 ],
 "metadata": {
  "kernelspec": {
   "display_name": "Python 3",
   "language": "python",
   "name": "python3"
  },
  "language_info": {
   "codemirror_mode": {
    "name": "ipython",
    "version": 3
   },
   "file_extension": ".py",
   "mimetype": "text/x-python",
   "name": "python",
   "nbconvert_exporter": "python",
   "pygments_lexer": "ipython3",
   "version": "3.7.6"
  },
  "toc": {
   "base_numbering": 1,
   "nav_menu": {},
   "number_sections": true,
   "sideBar": true,
   "skip_h1_title": true,
   "title_cell": "Table of Contents",
   "title_sidebar": "Contents",
   "toc_cell": true,
   "toc_position": {},
   "toc_section_display": true,
   "toc_window_display": true
  }
 },
 "nbformat": 4,
 "nbformat_minor": 4
}
